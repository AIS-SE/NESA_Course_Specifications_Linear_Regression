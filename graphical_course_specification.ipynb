{
 "cells": [
  {
   "cell_type": "markdown",
   "metadata": {},
   "source": [
    "### Graphical Course Specifications\n",
    "\n",
    "This is a graphical demonstration of the course specifications linear regression algorithm. Providing a more detailed visual application (after debugging) of each step of the linear regression algorithm using NumPy, Scikit-learn machine learning and Matplotlib visualisation.\n",
    "\n",
    "This can also be viewed as Python script in [graphical.py](graphical.py.)"
   ]
  },
  {
   "cell_type": "markdown",
   "metadata": {},
   "source": [
    "#### Step 1\n",
    "\n",
    "Load the three required dependencies:\n",
    "- [numpy](https://numpy.org/) a comprehensive library of mathematical functions, random number generators, linear algebra routines, Fourier transforms, and more.\n",
    "- [sklearn](https://scikit-learn.org/stable/) a user friendly library of simple and efficient tools for predictive data analysis.\n",
    "- [Matplotlib](https://matplotlib.org) a comprehensive library for creating static, animated, and interactive visualizations in Python."
   ]
  },
  {
   "cell_type": "code",
   "execution_count": null,
   "metadata": {},
   "outputs": [],
   "source": [
    "# Import frameworks\n",
    "import numpy as np\n",
    "import matplotlib.pyplot as plt\n",
    "plt.style.use('deeplearning.mplstyle')\n",
    "from sklearn.linear_model import LinearRegression"
   ]
  },
  {
   "cell_type": "markdown",
   "metadata": {},
   "source": [
    "####  Step 2\n",
    "- Store the training features into the `x` variable\n",
    "- Store the training example targets into the `y` variable"
   ]
  },
  {
   "cell_type": "code",
   "execution_count": null,
   "metadata": {},
   "outputs": [],
   "source": [
    "# Create the data for the two features\n",
    "x = np.array([[2], [4], [6], [8], [10], [12], [14], [16]])\n",
    "y = np.array([1, 3, 5, 7, 9, 11, 13, 15])"
   ]
  },
  {
   "cell_type": "markdown",
   "metadata": {},
   "source": [
    "#### Step 3\n",
    "\n",
    "Plot the feature `x` and target `y` data on a graph. As you can see this this is introductory data and it already has a tight line of best fit."
   ]
  },
  {
   "cell_type": "code",
   "execution_count": null,
   "metadata": {},
   "outputs": [],
   "source": [
    "# Plot the data points\n",
    "plt.scatter(x, y, marker='x', c='r')\n",
    "# Set the title\n",
    "plt.title(\"NESA Course Specifications Data\")\n",
    "# Set the y-axis label\n",
    "plt.ylabel('Example targets')\n",
    "# Set the x-axis label\n",
    "plt.xlabel('Example features')\n",
    "plt.show()"
   ]
  },
  {
   "cell_type": "markdown",
   "metadata": {},
   "source": [
    "#### Step 4\n",
    "\n",
    "Apply your Python skills and query the data set about how many training examples there are."
   ]
  },
  {
   "cell_type": "code",
   "execution_count": null,
   "metadata": {},
   "outputs": [],
   "source": [
    "m = len(x)\n",
    "print(f\"Number of training examples is: {m}\")"
   ]
  },
  {
   "cell_type": "markdown",
   "metadata": {},
   "source": [
    "#### Step 3\n",
    "\n",
    "Use the [sklearn](https://scikit-learn.org/stable/) library to create the Machine Learning model and store it in the `my_model` variable."
   ]
  },
  {
   "cell_type": "code",
   "execution_count": null,
   "metadata": {},
   "outputs": [],
   "source": [
    "# Create the model\n",
    "my_model = LinearRegression()"
   ]
  },
  {
   "cell_type": "markdown",
   "metadata": {},
   "source": [
    "#### Step 4\n",
    "\n",
    "Use the [sklearn](https://scikit-learn.org/stable/) library to fit the model to the training data which will provide a line of best fit with the lowest cost based on a [sklearn](https://scikit-learn.org/stable/) algorithm."
   ]
  },
  {
   "cell_type": "code",
   "execution_count": null,
   "metadata": {},
   "outputs": [],
   "source": [
    "# Fit the model to the data\n",
    "my_model.fit(x, y)"
   ]
  },
  {
   "cell_type": "code",
   "execution_count": null,
   "metadata": {},
   "outputs": [],
   "source": [
    "y_pred = my_model.predict(x)\n",
    "plt.plot(x, y_pred)\n",
    "plt.scatter(x, y, marker='x', c='r')\n",
    "plt.title(\"NESA Course Specifications Data\")\n",
    "plt.ylabel('Example targets')\n",
    "plt.xlabel('Example features')\n",
    "plt.show()"
   ]
  },
  {
   "cell_type": "markdown",
   "metadata": {},
   "source": [
    "#### Step 5\n",
    "\n",
    "We can now use the model for predictions with existing or new data. The model requires a feature or value for `x` and it will predict a target value for `y`.\n",
    "\n",
    "Based on the data provided if we asked for a prediction on `4` it would return `3`.\n",
    "\n",
    "- The feature to be predicted is inserted in an array variable `predict` and the reshape [numpy](https://numpy.org/) method is used to convert it to a multidimensional array. \n",
    "- The feature as a multidimensional array is feed to the model and a return target value is returned by the model."
   ]
  },
  {
   "cell_type": "code",
   "execution_count": null,
   "metadata": {},
   "outputs": [],
   "source": [
    "predict = np.array([4]).reshape(1, -1)\n",
    "y_prediction = my_model.predict(predict)"
   ]
  },
  {
   "cell_type": "markdown",
   "metadata": {},
   "source": [
    "#### Step 6\n",
    "The prediction is returned as a `f` string."
   ]
  },
  {
   "cell_type": "code",
   "execution_count": null,
   "metadata": {},
   "outputs": [],
   "source": [
    "print(f\"predicted feature is: {y_prediction}\")"
   ]
  }
 ],
 "metadata": {
  "kernelspec": {
   "display_name": "Python 3",
   "language": "python",
   "name": "python3"
  },
  "language_info": {
   "codemirror_mode": {
    "name": "ipython",
    "version": 3
   },
   "file_extension": ".py",
   "mimetype": "text/x-python",
   "name": "python",
   "nbconvert_exporter": "python",
   "pygments_lexer": "ipython3",
   "version": "3.12.6"
  }
 },
 "nbformat": 4,
 "nbformat_minor": 2
}
