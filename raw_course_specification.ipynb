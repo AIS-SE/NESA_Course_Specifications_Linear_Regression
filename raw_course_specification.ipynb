{
 "cells": [
  {
   "cell_type": "markdown",
   "metadata": {},
   "source": [
    "### RAW Course Specifications\n",
    "\n",
    "This is a raw demonstration of the course specifications linear regression algorithm. Providing a direct application (after debugging) of each step of the linear regression algorithm using NumPy and Scikit-learn machine learning.\n",
    "\n",
    "This can also be viewed as Python script in [raw.py](raw.py.)"
   ]
  },
  {
   "cell_type": "markdown",
   "metadata": {},
   "source": [
    "#### Step 1\n",
    "\n",
    "Load the two required dependencies:\n",
    "- [NumPy](https://numpy.org/) a comprehensive library of mathematical functions, random number generators, linear algebra routines, Fourier transforms, and more.\n",
    "- [Scikit-learn](https://scikit-learn.org/stable/) a user friendly library of simple and efficient tools for predictive data analysis."
   ]
  },
  {
   "cell_type": "code",
   "execution_count": null,
   "metadata": {},
   "outputs": [],
   "source": [
    "# Import frameworks\n",
    "import numpy as np\n",
    "from sklearn.linear_model import LinearRegression"
   ]
  },
  {
   "cell_type": "markdown",
   "metadata": {},
   "source": [
    "####  Step 2\n",
    "- Store the training features into the `x` variable\n",
    "- Store the training example targets into the `y` variable"
   ]
  },
  {
   "cell_type": "code",
   "execution_count": null,
   "metadata": {},
   "outputs": [],
   "source": [
    "# Create the data for the two features\n",
    "x = np.array([[2], [4], [6], [8], [10], [12], [14], [16]])\n",
    "y = np.array([1, 3, 5, 7, 9, 11, 13, 15])"
   ]
  },
  {
   "cell_type": "markdown",
   "metadata": {},
   "source": [
    "#### Step 3\n",
    "\n",
    "Use the [Scikit-learn](https://scikit-learn.org/stable/) library to create the Machine Learning model and store it in the `my_model` variable."
   ]
  },
  {
   "cell_type": "code",
   "execution_count": null,
   "metadata": {},
   "outputs": [],
   "source": [
    "# Create the model\n",
    "my_model = LinearRegression()"
   ]
  },
  {
   "cell_type": "markdown",
   "metadata": {},
   "source": [
    "#### Step 4\n",
    "\n",
    "Use the [Scikit-learn](https://scikit-learn.org/stable/) library to fit the model to the training data which will provide a line of best fit with the lowest cost based on a [Scikit-learn](https://scikit-learn.org/stable/) algorithm."
   ]
  },
  {
   "cell_type": "code",
   "execution_count": null,
   "metadata": {},
   "outputs": [],
   "source": [
    "# Fit the model to the data\n",
    "my_model.fit(x, y)"
   ]
  },
  {
   "cell_type": "markdown",
   "metadata": {},
   "source": [
    "#### Step 5\n",
    "\n",
    "We can now use the model for predictions with existing or new data. The model requires a feature or value for `x` and it will predict a target value for `y`.\n",
    "\n",
    "Based on the data provided if we asked for a prediction on `4` it would return `3`.\n",
    "\n",
    "- The feature to be predicted is inserted in an array variable `predict` and the reshape [NumPy](https://numpy.org/) method is used to convert it to a multidimensional array. \n",
    "- The feature as a multidimensional array is feed to the model and a return target value is returned by the model."
   ]
  },
  {
   "cell_type": "code",
   "execution_count": null,
   "metadata": {},
   "outputs": [],
   "source": [
    "predict = np.array([4]).reshape(1, -1)\n",
    "y_prediction = my_model.predict(predict)"
   ]
  },
  {
   "cell_type": "markdown",
   "metadata": {},
   "source": [
    "#### Step 6\n",
    "The prediction is returned as a `f` string."
   ]
  },
  {
   "cell_type": "code",
   "execution_count": null,
   "metadata": {},
   "outputs": [],
   "source": [
    "print(f\"predicted target is: {y_prediction}\")"
   ]
  },
  {
   "cell_type": "markdown",
   "metadata": {},
   "source": [
    "### Step 7\n",
    "\n",
    "Double check the model by changing the predict feature in Step 5 to `4.5` then rerun steps 5 and 6, the expected predicted target is `3.5`."
   ]
  }
 ],
 "metadata": {
  "kernelspec": {
   "display_name": "Python 3",
   "language": "python",
   "name": "python3"
  },
  "language_info": {
   "codemirror_mode": {
    "name": "ipython",
    "version": 3
   },
   "file_extension": ".py",
   "mimetype": "text/x-python",
   "name": "python",
   "nbconvert_exporter": "python",
   "pygments_lexer": "ipython3",
   "version": "3.12.6"
  }
 },
 "nbformat": 4,
 "nbformat_minor": 2
}
