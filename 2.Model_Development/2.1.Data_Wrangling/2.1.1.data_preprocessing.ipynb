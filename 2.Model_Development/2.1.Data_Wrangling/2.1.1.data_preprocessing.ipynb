{
 "cells": [
  {
   "cell_type": "markdown",
   "metadata": {},
   "source": [
    "[Home](../../README.md)\n",
    "\n",
    "### Data Preprocessing\n",
    "\n",
    "This is a demonstration of data preprocessing using [Pandas](https://pandas.pydata.org/) the library for data analysis and manipulation.\n",
    "\n",
    "This Jupyter Notepad is less about steps and more about different processes you can apply to your data before data wrangling. For this demonstration we will use relatively a complex real dataset that compares health measures with the speed of progress of type 2 adult onset diabetes."
   ]
  },
  {
   "cell_type": "markdown",
   "metadata": {},
   "source": [
    "#### Load the required dependencies"
   ]
  },
  {
   "cell_type": "code",
   "execution_count": 1,
   "metadata": {},
   "outputs": [],
   "source": [
    "# Import frameworks\n",
    "import pandas as pd"
   ]
  },
  {
   "cell_type": "markdown",
   "metadata": {},
   "source": [
    "####  Store the data as a local variable\n",
    "\n",
    "The data frame is a Pandas object that structures your tabular data into an appropriate format. It loads the complete data in memory so it is now ready for preprocessing."
   ]
  },
  {
   "cell_type": "code",
   "execution_count": 9,
   "metadata": {},
   "outputs": [],
   "source": [
    "data_frame = pd.read_csv(\"2.1.1.Diabeties_Sample_Data.csv\")"
   ]
  },
  {
   "cell_type": "markdown",
   "metadata": {},
   "source": [
    "#### head() & tail() - Data Snapshot\n",
    "\n",
    "It is important to get a high-level look at your dataset to understand what you are working with. Printing the complete data might be impossible for large-scale datasets where the rows can be in thousands or even millions.\n",
    "\n",
    "You can use the head and tail method call to inspect the first and last 5 rows of your dataset."
   ]
  },
  {
   "cell_type": "code",
   "execution_count": 9,
   "metadata": {},
   "outputs": [
    {
     "name": "stdout",
     "output_type": "stream",
     "text": [
      "   AGE     SEX   BMI     BP  Total Cholesterol  Blood Sugar Level  Target\n",
      "0   59  Female  32.1  101.0                4.0                 87     151\n",
      "1   48    Male  21.6   87.0                3.0                 69      75\n",
      "2   72  Female  30.5   93.0                4.0                 85     141\n",
      "3   24    Male  25.3   84.0                5.0                 89     206\n",
      "4   50    Male  23.0  101.0                4.0                 80     135\n",
      "     AGE     SEX   BMI      BP  Total Cholesterol  Blood Sugar Level  Target\n",
      "437   60  Female  28.2  112.00               4.00                 93     178\n",
      "438   47  Female  24.9   75.00               5.00                102     104\n",
      "439   60  Female  24.9   99.67               3.77                 95     132\n",
      "440   36    Male  30.0   95.00               4.79                 85     220\n",
      "441   36    Male  19.6   71.00               3.00                 92      57\n"
     ]
    }
   ],
   "source": [
    "# Target = A measure of disease progression in one year\n",
    "print(data_frame.head())\n",
    "print(data_frame.tail())"
   ]
  },
  {
   "cell_type": "markdown",
   "metadata": {},
   "source": [
    "####  info() - Data Summary\n",
    " \n",
    "The info method call prints a summary of each column, giving you more information about the specific data types, total number of rows, null values and memory usage."
   ]
  },
  {
   "cell_type": "code",
   "execution_count": 10,
   "metadata": {},
   "outputs": [
    {
     "name": "stdout",
     "output_type": "stream",
     "text": [
      "<class 'pandas.core.frame.DataFrame'>\n",
      "RangeIndex: 442 entries, 0 to 441\n",
      "Data columns (total 7 columns):\n",
      " #   Column             Non-Null Count  Dtype  \n",
      "---  ------             --------------  -----  \n",
      " 0   AGE                442 non-null    int64  \n",
      " 1   SEX                442 non-null    object \n",
      " 2   BMI                442 non-null    float64\n",
      " 3   BP                 442 non-null    float64\n",
      " 4   Total Cholesterol  442 non-null    float64\n",
      " 5   Blood Sugar Level  442 non-null    int64  \n",
      " 6   Target             442 non-null    int64  \n",
      "dtypes: float64(3), int64(3), object(1)\n",
      "memory usage: 24.3+ KB\n"
     ]
    }
   ],
   "source": [
    "data_frame.info()"
   ]
  },
  {
   "cell_type": "markdown",
   "metadata": {},
   "source": [
    "#### describe() - Statistics For Numerical Columns\n",
    " \n",
    "The describe method call provides basic statistical knowledge like the mean and spread of the data."
   ]
  },
  {
   "cell_type": "code",
   "execution_count": 11,
   "metadata": {},
   "outputs": [
    {
     "data": {
      "text/html": [
       "<div>\n",
       "<style scoped>\n",
       "    .dataframe tbody tr th:only-of-type {\n",
       "        vertical-align: middle;\n",
       "    }\n",
       "\n",
       "    .dataframe tbody tr th {\n",
       "        vertical-align: top;\n",
       "    }\n",
       "\n",
       "    .dataframe thead th {\n",
       "        text-align: right;\n",
       "    }\n",
       "</style>\n",
       "<table border=\"1\" class=\"dataframe\">\n",
       "  <thead>\n",
       "    <tr style=\"text-align: right;\">\n",
       "      <th></th>\n",
       "      <th>AGE</th>\n",
       "      <th>BMI</th>\n",
       "      <th>BP</th>\n",
       "      <th>Total Cholesterol</th>\n",
       "      <th>Blood Sugar Level</th>\n",
       "      <th>Target</th>\n",
       "    </tr>\n",
       "  </thead>\n",
       "  <tbody>\n",
       "    <tr>\n",
       "      <th>count</th>\n",
       "      <td>442.000000</td>\n",
       "      <td>442.000000</td>\n",
       "      <td>442.000000</td>\n",
       "      <td>442.000000</td>\n",
       "      <td>442.000000</td>\n",
       "      <td>442.000000</td>\n",
       "    </tr>\n",
       "    <tr>\n",
       "      <th>mean</th>\n",
       "      <td>48.518100</td>\n",
       "      <td>26.375792</td>\n",
       "      <td>94.647014</td>\n",
       "      <td>4.070249</td>\n",
       "      <td>91.260181</td>\n",
       "      <td>152.133484</td>\n",
       "    </tr>\n",
       "    <tr>\n",
       "      <th>std</th>\n",
       "      <td>13.109028</td>\n",
       "      <td>4.418122</td>\n",
       "      <td>13.831283</td>\n",
       "      <td>1.290450</td>\n",
       "      <td>11.496335</td>\n",
       "      <td>77.093005</td>\n",
       "    </tr>\n",
       "    <tr>\n",
       "      <th>min</th>\n",
       "      <td>19.000000</td>\n",
       "      <td>18.000000</td>\n",
       "      <td>62.000000</td>\n",
       "      <td>2.000000</td>\n",
       "      <td>58.000000</td>\n",
       "      <td>25.000000</td>\n",
       "    </tr>\n",
       "    <tr>\n",
       "      <th>25%</th>\n",
       "      <td>38.250000</td>\n",
       "      <td>23.200000</td>\n",
       "      <td>84.000000</td>\n",
       "      <td>3.000000</td>\n",
       "      <td>83.250000</td>\n",
       "      <td>87.000000</td>\n",
       "    </tr>\n",
       "    <tr>\n",
       "      <th>50%</th>\n",
       "      <td>50.000000</td>\n",
       "      <td>25.700000</td>\n",
       "      <td>93.000000</td>\n",
       "      <td>4.000000</td>\n",
       "      <td>91.000000</td>\n",
       "      <td>140.500000</td>\n",
       "    </tr>\n",
       "    <tr>\n",
       "      <th>75%</th>\n",
       "      <td>59.000000</td>\n",
       "      <td>29.275000</td>\n",
       "      <td>105.000000</td>\n",
       "      <td>5.000000</td>\n",
       "      <td>98.000000</td>\n",
       "      <td>211.500000</td>\n",
       "    </tr>\n",
       "    <tr>\n",
       "      <th>max</th>\n",
       "      <td>79.000000</td>\n",
       "      <td>42.200000</td>\n",
       "      <td>133.000000</td>\n",
       "      <td>9.090000</td>\n",
       "      <td>124.000000</td>\n",
       "      <td>346.000000</td>\n",
       "    </tr>\n",
       "  </tbody>\n",
       "</table>\n",
       "</div>"
      ],
      "text/plain": [
       "              AGE         BMI          BP  Total Cholesterol  \\\n",
       "count  442.000000  442.000000  442.000000         442.000000   \n",
       "mean    48.518100   26.375792   94.647014           4.070249   \n",
       "std     13.109028    4.418122   13.831283           1.290450   \n",
       "min     19.000000   18.000000   62.000000           2.000000   \n",
       "25%     38.250000   23.200000   84.000000           3.000000   \n",
       "50%     50.000000   25.700000   93.000000           4.000000   \n",
       "75%     59.000000   29.275000  105.000000           5.000000   \n",
       "max     79.000000   42.200000  133.000000           9.090000   \n",
       "\n",
       "       Blood Sugar Level      Target  \n",
       "count         442.000000  442.000000  \n",
       "mean           91.260181  152.133484  \n",
       "std            11.496335   77.093005  \n",
       "min            58.000000   25.000000  \n",
       "25%            83.250000   87.000000  \n",
       "50%            91.000000  140.500000  \n",
       "75%            98.000000  211.500000  \n",
       "max           124.000000  346.000000  "
      ]
     },
     "execution_count": 11,
     "metadata": {},
     "output_type": "execute_result"
    }
   ],
   "source": [
    "data_frame.describe()"
   ]
  },
  {
   "cell_type": "markdown",
   "metadata": {},
   "source": [
    "#### isnull()\n",
    "\n",
    "Null values during data analysis can cause runtime errors and unexpected results. It is important to identify null values and deal with them appropriately beforehand."
   ]
  },
  {
   "cell_type": "code",
   "execution_count": 10,
   "metadata": {},
   "outputs": [
    {
     "name": "stdout",
     "output_type": "stream",
     "text": [
      "AGE                  1\n",
      "SEX                  1\n",
      "BMI                  0\n",
      "BP                   0\n",
      "Total Cholesterol    0\n",
      "Blood Sugar Level    0\n",
      "Target               0\n",
      "dtype: int64\n"
     ]
    }
   ],
   "source": [
    "print(data_frame.isnull().sum())"
   ]
  },
  {
   "cell_type": "markdown",
   "metadata": {},
   "source": [
    "#### dropna() & fillna()\n",
    "\n",
    "If you have null data there are many ways to deal with the empty/null values. These are the two most common approaches.\n",
    "1. Remove any row with a null value.\n",
    "2. Replace missing values with another value. Generally, we use mean value for numerical columns because it may cause minimal changes in your mathematical analysis while maintaining the original size of the data.\n",
    "\n",
    "Question: Why is removing the null 'SEX' and replacing the mean 'AGE' appropriate?"
   ]
  },
  {
   "cell_type": "code",
   "execution_count": 11,
   "metadata": {},
   "outputs": [
    {
     "name": "stdout",
     "output_type": "stream",
     "text": [
      "AGE                  1\n",
      "SEX                  0\n",
      "BMI                  0\n",
      "BP                   0\n",
      "Total Cholesterol    0\n",
      "Blood Sugar Level    0\n",
      "Target               0\n",
      "dtype: int64\n"
     ]
    }
   ],
   "source": [
    "# Remove Null values\n",
    "data_frame = data_frame.dropna(subset=['SEX'])\n",
    "print(data_frame.isnull().sum())"
   ]
  },
  {
   "cell_type": "code",
   "execution_count": 12,
   "metadata": {},
   "outputs": [
    {
     "name": "stdout",
     "output_type": "stream",
     "text": [
      "AGE                  0\n",
      "SEX                  0\n",
      "BMI                  0\n",
      "BP                   0\n",
      "Total Cholesterol    0\n",
      "Blood Sugar Level    0\n",
      "Target               0\n",
      "dtype: int64\n"
     ]
    }
   ],
   "source": [
    "# Replace Null values with the mean value for the column\n",
    "data_frame['AGE'] = data_frame['AGE'].fillna(data_frame['AGE'].mean())\n",
    "print(data_frame.isnull().sum())"
   ]
  },
  {
   "cell_type": "markdown",
   "metadata": {},
   "source": [
    "#### apply()\n",
    "\n",
    "We can run a lambda function on a column to modify its values. For a simple example, let’s convert the Sex to lowercase. To run a function over a complete column, we can use the apply method which iterates over each row and modifies the values."
   ]
  },
  {
   "cell_type": "code",
   "execution_count": 14,
   "metadata": {},
   "outputs": [
    {
     "name": "stdout",
     "output_type": "stream",
     "text": [
      "0    female\n",
      "1      male\n",
      "2    female\n",
      "3      male\n",
      "4      male\n",
      "Name: SEX, dtype: object\n"
     ]
    }
   ],
   "source": [
    "data_frame['SEX'] = data_frame['SEX'].apply(lambda x: x.lower())\n",
    "print(data_frame['SEX'].head())"
   ]
  },
  {
   "cell_type": "markdown",
   "metadata": {},
   "source": [
    "Or better still let make there statistical values by assigning a number value to the SEX. Because the data set only states 2 values we will use -1 and 1."
   ]
  },
  {
   "cell_type": "code",
   "execution_count": 16,
   "metadata": {},
   "outputs": [
    {
     "name": "stdout",
     "output_type": "stream",
     "text": [
      "0    1\n",
      "1   -1\n",
      "2    1\n",
      "3   -1\n",
      "4   -1\n",
      "Name: SEX, dtype: int64\n"
     ]
    }
   ],
   "source": [
    "data_frame['SEX'] = data_frame['SEX'].apply(lambda gender: -1 if gender.lower() == 'male' else 1 if gender.lower() == 'female' else None)\n",
    "print(data_frame['SEX'].head())"
   ]
  },
  {
   "cell_type": "markdown",
   "metadata": {},
   "source": [
    "#### Filter Your Data\n",
    "\n",
    "Filtering is like applying the where clause in a database. It is widely used and can help when you need to work on a specific subset of your data. For our use case, let us filter the data to only include rows where the 'SEX' is 'Male'. There is no method call for this, we can just use conditional indexing to fulfill our purpose."
   ]
  },
  {
   "cell_type": "code",
   "execution_count": null,
   "metadata": {},
   "outputs": [],
   "source": [
    "data_frame = data_frame[data_frame['Region'] == 'Sub-Saharan Africa']\n",
    "data_frame.head()"
   ]
  },
  {
   "cell_type": "markdown",
   "metadata": {},
   "source": [
    "#### quantile()\n",
    "\n",
    "Outliers can skew your analysis on numerical columns, and it is important to remove them. We can use the 25th and 75th quartile on numerical data, to get the inter-quartile range. This allows us to estimate an acceptable range, and we can then filter out any values outside this range. Mathematically, outliers are values occurring outside 1.5 times the interquartile range (IQR) from the first quartile (Q1) or third quartile (Q3)."
   ]
  },
  {
   "cell_type": "code",
   "execution_count": null,
   "metadata": {},
   "outputs": [],
   "source": [
    "#get the inter-quartile range on the salary column\n",
    "print(data_frame['Units Sold'].describe())\n",
    "Q1 = data_frame['Units Sold'].quantile(0.25)\n",
    "Q3 = data_frame['Units Sold'].quantile(0.75)\n",
    "IQR = Q3 - Q1"
   ]
  },
  {
   "cell_type": "code",
   "execution_count": null,
   "metadata": {},
   "outputs": [],
   "source": [
    "# Filter salaries within the acceptable range\n",
    "data_frame = data_frame[(data_frame['Units Sold'] >= Q1 - 1.5 * IQR) & (data_frame['Units Sold'] <= Q3 + 1.5 * IQR)]\n",
    "print(data_frame['Units Sold'].describe())"
   ]
  },
  {
   "cell_type": "markdown",
   "metadata": {},
   "source": [
    "#### Save the preprocessed data to CSV"
   ]
  },
  {
   "cell_type": "code",
   "execution_count": null,
   "metadata": {},
   "outputs": [],
   "source": [
    "data_frame.to_csv('2.1.1.preprocessed_data.csv')"
   ]
  }
 ],
 "metadata": {
  "kernelspec": {
   "display_name": "Python 3",
   "language": "python",
   "name": "python3"
  },
  "language_info": {
   "codemirror_mode": {
    "name": "ipython",
    "version": 3
   },
   "file_extension": ".py",
   "mimetype": "text/x-python",
   "name": "python",
   "nbconvert_exporter": "python",
   "pygments_lexer": "ipython3",
   "version": "3.12.6"
  }
 },
 "nbformat": 4,
 "nbformat_minor": 2
}
